{
 "cells": [
  {
   "cell_type": "markdown",
   "metadata": {},
   "source": [
    "<h3 align=center>Final Tutorial - Relationship and Impacts of COVID on the Movie Industry</h3>\n",
    "<h4 align=center>Venkat Gokaraju, Sean Tan, Tony Chen, Jahanzeb Hassan</h4>\n",
    "\n",
    "-- Insert Brief Intro/Explanation Here --\n"
   ]
  },
  {
   "cell_type": "markdown",
   "metadata": {},
   "source": [
    "-- Start with imports --"
   ]
  },
  {
   "cell_type": "code",
   "execution_count": 40,
   "metadata": {},
   "outputs": [],
   "source": [
    "import sqlite3 as sql, pandas as pd, numpy as np, matplotlib as mpl, matplotlib.pyplot as pyplot, math\n",
    "from matplotlib.ticker import FormatStrFormatter"
   ]
  },
  {
   "cell_type": "markdown",
   "metadata": {},
   "source": [
    "-- Pulling movie data from DB --"
   ]
  },
  {
   "cell_type": "code",
   "execution_count": 41,
   "metadata": {},
   "outputs": [
    {
     "data": {
      "text/html": [
       "<div>\n",
       "<style scoped>\n",
       "    .dataframe tbody tr th:only-of-type {\n",
       "        vertical-align: middle;\n",
       "    }\n",
       "\n",
       "    .dataframe tbody tr th {\n",
       "        vertical-align: top;\n",
       "    }\n",
       "\n",
       "    .dataframe thead th {\n",
       "        text-align: right;\n",
       "    }\n",
       "</style>\n",
       "<table border=\"1\" class=\"dataframe\">\n",
       "  <thead>\n",
       "    <tr style=\"text-align: right;\">\n",
       "      <th></th>\n",
       "      <th>title</th>\n",
       "      <th>release_date</th>\n",
       "      <th>popularity</th>\n",
       "      <th>vote_average</th>\n",
       "      <th>vote_count</th>\n",
       "      <th>revenue</th>\n",
       "      <th>budget</th>\n",
       "    </tr>\n",
       "  </thead>\n",
       "  <tbody>\n",
       "    <tr>\n",
       "      <th>0</th>\n",
       "      <td>Bad Boys for Life</td>\n",
       "      <td>2020-01-17</td>\n",
       "      <td>73.253</td>\n",
       "      <td>7.2</td>\n",
       "      <td>6645</td>\n",
       "      <td>426505244</td>\n",
       "      <td>90000000</td>\n",
       "    </tr>\n",
       "    <tr>\n",
       "      <th>1</th>\n",
       "      <td>Super Troopers 2</td>\n",
       "      <td>2018-04-20</td>\n",
       "      <td>12.451</td>\n",
       "      <td>5.8</td>\n",
       "      <td>322</td>\n",
       "      <td>18850674</td>\n",
       "      <td>13500000</td>\n",
       "    </tr>\n",
       "    <tr>\n",
       "      <th>2</th>\n",
       "      <td>Pet Sematary</td>\n",
       "      <td>2019-04-05</td>\n",
       "      <td>24.863</td>\n",
       "      <td>5.7</td>\n",
       "      <td>2559</td>\n",
       "      <td>112399944</td>\n",
       "      <td>21000000</td>\n",
       "    </tr>\n",
       "    <tr>\n",
       "      <th>3</th>\n",
       "      <td>How to Train Your Dragon: The Hidden World</td>\n",
       "      <td>2019-02-22</td>\n",
       "      <td>61.609</td>\n",
       "      <td>7.8</td>\n",
       "      <td>4810</td>\n",
       "      <td>517526875</td>\n",
       "      <td>129000000</td>\n",
       "    </tr>\n",
       "    <tr>\n",
       "      <th>4</th>\n",
       "      <td>Star Wars: The Rise of Skywalker</td>\n",
       "      <td>2019-12-20</td>\n",
       "      <td>62.079</td>\n",
       "      <td>6.5</td>\n",
       "      <td>7223</td>\n",
       "      <td>1074144248</td>\n",
       "      <td>250000000</td>\n",
       "    </tr>\n",
       "    <tr>\n",
       "      <th>...</th>\n",
       "      <td>...</td>\n",
       "      <td>...</td>\n",
       "      <td>...</td>\n",
       "      <td>...</td>\n",
       "      <td>...</td>\n",
       "      <td>...</td>\n",
       "      <td>...</td>\n",
       "    </tr>\n",
       "    <tr>\n",
       "      <th>1925</th>\n",
       "      <td>Black Island</td>\n",
       "      <td>2021-08-18</td>\n",
       "      <td>89.923</td>\n",
       "      <td>6.2</td>\n",
       "      <td>111</td>\n",
       "      <td>0</td>\n",
       "      <td>0</td>\n",
       "    </tr>\n",
       "    <tr>\n",
       "      <th>1926</th>\n",
       "      <td>Jurassic Hunt</td>\n",
       "      <td>2021-08-24</td>\n",
       "      <td>293.261</td>\n",
       "      <td>5.0</td>\n",
       "      <td>155</td>\n",
       "      <td>0</td>\n",
       "      <td>0</td>\n",
       "    </tr>\n",
       "    <tr>\n",
       "      <th>1927</th>\n",
       "      <td>Schumacher</td>\n",
       "      <td>2021-09-15</td>\n",
       "      <td>28.985</td>\n",
       "      <td>7.4</td>\n",
       "      <td>187</td>\n",
       "      <td>0</td>\n",
       "      <td>0</td>\n",
       "    </tr>\n",
       "    <tr>\n",
       "      <th>1928</th>\n",
       "      <td>Hypnotic</td>\n",
       "      <td>2021-10-27</td>\n",
       "      <td>349.019</td>\n",
       "      <td>6.2</td>\n",
       "      <td>248</td>\n",
       "      <td>0</td>\n",
       "      <td>0</td>\n",
       "    </tr>\n",
       "    <tr>\n",
       "      <th>1929</th>\n",
       "      <td>Friendzone</td>\n",
       "      <td>2021-09-29</td>\n",
       "      <td>35.510</td>\n",
       "      <td>6.4</td>\n",
       "      <td>116</td>\n",
       "      <td>0</td>\n",
       "      <td>0</td>\n",
       "    </tr>\n",
       "  </tbody>\n",
       "</table>\n",
       "<p>1930 rows × 7 columns</p>\n",
       "</div>"
      ],
      "text/plain": [
       "                                           title release_date  popularity  \\\n",
       "0                              Bad Boys for Life   2020-01-17      73.253   \n",
       "1                               Super Troopers 2   2018-04-20      12.451   \n",
       "2                                   Pet Sematary   2019-04-05      24.863   \n",
       "3     How to Train Your Dragon: The Hidden World   2019-02-22      61.609   \n",
       "4               Star Wars: The Rise of Skywalker   2019-12-20      62.079   \n",
       "...                                          ...          ...         ...   \n",
       "1925                                Black Island   2021-08-18      89.923   \n",
       "1926                               Jurassic Hunt   2021-08-24     293.261   \n",
       "1927                                  Schumacher   2021-09-15      28.985   \n",
       "1928                                    Hypnotic   2021-10-27     349.019   \n",
       "1929                                  Friendzone   2021-09-29      35.510   \n",
       "\n",
       "      vote_average  vote_count     revenue     budget  \n",
       "0              7.2        6645   426505244   90000000  \n",
       "1              5.8         322    18850674   13500000  \n",
       "2              5.7        2559   112399944   21000000  \n",
       "3              7.8        4810   517526875  129000000  \n",
       "4              6.5        7223  1074144248  250000000  \n",
       "...            ...         ...         ...        ...  \n",
       "1925           6.2         111           0          0  \n",
       "1926           5.0         155           0          0  \n",
       "1927           7.4         187           0          0  \n",
       "1928           6.2         248           0          0  \n",
       "1929           6.4         116           0          0  \n",
       "\n",
       "[1930 rows x 7 columns]"
      ]
     },
     "execution_count": 41,
     "metadata": {},
     "output_type": "execute_result"
    }
   ],
   "source": [
    "movieDB = 'movie.db'\n",
    "conn = sql.connect(movieDB)\n",
    "\n",
    "#Queries movie.db for movie title, release date, popularity, vote average, vote count, revenue, and budget\n",
    "sql_query = ''' \\\n",
    "    SELECT movies.title, movies.release_date, movies.popularity, movies.vote_average, movies.vote_count, movies.revenue, movies.budget\n",
    "    FROM movies\n",
    "'''\n",
    "\n",
    "moviesDF = pd.read_sql(sql_query, conn)\n",
    "moviesDF\n"
   ]
  },
  {
   "cell_type": "markdown",
   "metadata": {},
   "source": [
    "-- Basic Analysis of Movie dataset on it's own, identifying general trends --"
   ]
  },
  {
   "cell_type": "code",
   "execution_count": 42,
   "metadata": {},
   "outputs": [
    {
     "data": {
      "text/plain": [
       "[<matplotlib.lines.Line2D at 0x2900782bf10>]"
      ]
     },
     "execution_count": 42,
     "metadata": {},
     "output_type": "execute_result"
    },
    {
     "data": {
      "image/png": "[encoded data removed]",
      "text/plain": [
       "<Figure size 432x288 with 1 Axes>"
      ]
     },
     "metadata": {
      "needs_background": "light"
     },
     "output_type": "display_data"
    }
   ],
   "source": [
    "# Plot popularity against revenue\n",
    "ax1 = moviesDF.plot.scatter(x='popularity', y='revenue')\n",
    "ax1.set_title(\"Revenue vs Popularity\")\n",
    "\n",
    "# Linear regression on popularity and revenue\n",
    "popularityCol = moviesDF.loc[:, 'popularity']\n",
    "revenueCol = moviesDF.loc[:, 'revenue']\n",
    "\n",
    "m, b = np.polyfit(popularityCol, revenueCol, deg=1)\n",
    "\n",
    "# Plot regression line\n",
    "ax1.plot(popularityCol, m*popularityCol + b, color=\"black\")"
   ]
  },
  {
   "cell_type": "markdown",
   "metadata": {},
   "source": [
    "-- Pulling COVID dataset, talk about source of data, etc etc --"
   ]
  },
  {
   "cell_type": "code",
   "execution_count": 43,
   "metadata": {},
   "outputs": [
    {
     "data": {
      "text/html": [
       "<div>\n",
       "<style scoped>\n",
       "    .dataframe tbody tr th:only-of-type {\n",
       "        vertical-align: middle;\n",
       "    }\n",
       "\n",
       "    .dataframe tbody tr th {\n",
       "        vertical-align: top;\n",
       "    }\n",
       "\n",
       "    .dataframe thead th {\n",
       "        text-align: right;\n",
       "    }\n",
       "</style>\n",
       "<table border=\"1\" class=\"dataframe\">\n",
       "  <thead>\n",
       "    <tr style=\"text-align: right;\">\n",
       "      <th></th>\n",
       "      <th>Confirmed Cases To Date</th>\n",
       "      <th>Deaths To Date</th>\n",
       "    </tr>\n",
       "  </thead>\n",
       "  <tbody>\n",
       "    <tr>\n",
       "      <th>1/22/20</th>\n",
       "      <td>557</td>\n",
       "      <td>17</td>\n",
       "    </tr>\n",
       "    <tr>\n",
       "      <th>1/23/20</th>\n",
       "      <td>655</td>\n",
       "      <td>18</td>\n",
       "    </tr>\n",
       "    <tr>\n",
       "      <th>1/24/20</th>\n",
       "      <td>941</td>\n",
       "      <td>26</td>\n",
       "    </tr>\n",
       "    <tr>\n",
       "      <th>1/25/20</th>\n",
       "      <td>1434</td>\n",
       "      <td>42</td>\n",
       "    </tr>\n",
       "    <tr>\n",
       "      <th>1/26/20</th>\n",
       "      <td>2118</td>\n",
       "      <td>56</td>\n",
       "    </tr>\n",
       "    <tr>\n",
       "      <th>...</th>\n",
       "      <td>...</td>\n",
       "      <td>...</td>\n",
       "    </tr>\n",
       "    <tr>\n",
       "      <th>12/9/21</th>\n",
       "      <td>268558598</td>\n",
       "      <td>5287902</td>\n",
       "    </tr>\n",
       "    <tr>\n",
       "      <th>12/10/21</th>\n",
       "      <td>269250556</td>\n",
       "      <td>5296051</td>\n",
       "    </tr>\n",
       "    <tr>\n",
       "      <th>12/11/21</th>\n",
       "      <td>269739121</td>\n",
       "      <td>5301760</td>\n",
       "    </tr>\n",
       "    <tr>\n",
       "      <th>12/12/21</th>\n",
       "      <td>270159882</td>\n",
       "      <td>5306078</td>\n",
       "    </tr>\n",
       "    <tr>\n",
       "      <th>12/13/21</th>\n",
       "      <td>270795523</td>\n",
       "      <td>5312553</td>\n",
       "    </tr>\n",
       "  </tbody>\n",
       "</table>\n",
       "<p>692 rows × 2 columns</p>\n",
       "</div>"
      ],
      "text/plain": [
       "          Confirmed Cases To Date  Deaths To Date\n",
       "1/22/20                       557              17\n",
       "1/23/20                       655              18\n",
       "1/24/20                       941              26\n",
       "1/25/20                      1434              42\n",
       "1/26/20                      2118              56\n",
       "...                           ...             ...\n",
       "12/9/21                 268558598         5287902\n",
       "12/10/21                269250556         5296051\n",
       "12/11/21                269739121         5301760\n",
       "12/12/21                270159882         5306078\n",
       "12/13/21                270795523         5312553\n",
       "\n",
       "[692 rows x 2 columns]"
      ]
     },
     "execution_count": 43,
     "metadata": {},
     "output_type": "execute_result"
    }
   ],
   "source": [
    "# Reads covid19 worldwide cases csv file\n",
    "cases_COVID = pd.read_csv(\"COVID-19/csse_covid_19_data/csse_covid_19_time_series/time_series_covid19_confirmed_global.csv\")\n",
    "deaths_COVID = pd.read_csv(\"COVID-19/csse_covid_19_data/csse_covid_19_time_series/time_series_covid19_deaths_global.csv\")\n",
    "\n",
    "# Aggregating data as we will focus on just aggregate information by date\n",
    "cases_COVID.drop(columns=['Province/State','Country/Region', 'Lat', 'Long'], inplace=True)\n",
    "deaths_COVID.drop(columns=['Province/State','Country/Region', 'Lat', 'Long'], inplace=True)\n",
    "\n",
    "cases_COVID_agg = cases_COVID.sum(axis=0)\n",
    "deaths_COVID_agg = deaths_COVID.sum(axis=0)\n",
    "\n",
    "covid_DF = pd.concat([cases_COVID_agg, deaths_COVID_agg], axis=1)\n",
    "covid_DF.columns = ['Confirmed Cases To Date', 'Deaths To Date']\n",
    "covid_DF"
   ]
  },
  {
   "cell_type": "markdown",
   "metadata": {},
   "source": [
    "-- Regression Analysis --"
   ]
  }
 ],
 "metadata": {
  "interpreter": {
   "hash": "c6e4e9f98eb68ad3b7c296f83d20e6de614cb42e90992a65aa266555a3137d0d"
  },
  "kernelspec": {
   "display_name": "Python 3.9.7 64-bit ('base': conda)",
   "language": "python",
   "name": "python3"
  },
  "language_info": {
   "codemirror_mode": {
    "name": "ipython",
    "version": 3
   },
   "file_extension": ".py",
   "mimetype": "text/x-python",
   "name": "python",
   "nbconvert_exporter": "python",
   "pygments_lexer": "ipython3",
   "version": "3.9.9"
  },
  "orig_nbformat": 4
 },
 "nbformat": 4,
 "nbformat_minor": 2
}
